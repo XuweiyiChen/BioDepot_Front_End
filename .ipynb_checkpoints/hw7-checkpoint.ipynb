{
 "cells": [
  {
   "cell_type": "code",
   "execution_count": 1,
   "id": "b0a601b5-cb55-43e1-b5bb-3fe9bb75df2f",
   "metadata": {},
   "outputs": [],
   "source": [
    "import os\n",
    "import re\n",
    "\n",
    "import nltk\n",
    "\n",
    "alice_file = 'alice.txt'\n",
    "alice_raw = None\n",
    "\n",
    "if not os.path.isfile(alice_file):\n",
    "    from urllib import request\n",
    "    url = 'http://www.gutenberg.org/cache/epub/19033/pg19033.txt'\n",
    "    response = request.urlopen(url)\n",
    "    alice_raw = response.read().decode('utf8')\n",
    "    with open(alice_file, 'w', encoding='utf8') as f:\n",
    "        f.write(alice_raw)\n",
    "else:\n",
    "    with open(alice_file, 'r', encoding='utf8') as f:\n",
    "        alice_raw = f.read()"
   ]
  },
  {
   "cell_type": "code",
   "execution_count": 2,
   "id": "d933c93c-918c-41c4-9420-cb31edadaa32",
   "metadata": {},
   "outputs": [],
   "source": [
    "# For reasons, lets remove the start and end bloat from the text\n",
    "start = \"I--DOWN THE RABBIT-HOLE\"\n",
    "end = \"End of the Project Gutenberg\"\n",
    "start_index = alice_raw.find(start)\n",
    "end_index = alice_raw.rfind(end)\n",
    "alice = alice_raw[start_index:end_index]\n",
    "\n",
    "# And replace more than one subsequent whitespace chars with one space\n",
    "alice = re.sub(r'\\s+', ' ', alice)"
   ]
  },
  {
   "cell_type": "code",
   "execution_count": 3,
   "id": "32f7a4a7-6dc5-4a42-afd6-70ceac4f7ac0",
   "metadata": {},
   "outputs": [],
   "source": [
    "sentences = nltk.sent_tokenize(alice)"
   ]
  },
  {
   "cell_type": "code",
   "execution_count": 4,
   "id": "bf484b1a-4210-4fd7-8438-95b2e87a278b",
   "metadata": {},
   "outputs": [
    {
     "data": {
      "text/plain": [
       "['I--DOWN THE RABBIT-HOLE Alice was beginning to get very tired of sitting by her sister on the bank, and of having nothing to do.',\n",
       " 'Once or twice she had peeped into the book her sister was reading, but it had no pictures or conversations in it, \"and what is the use of a book,\" thought Alice, \"without pictures or conversations?\"',\n",
       " 'So she was considering in her own mind (as well as she could, for the day made her feel very sleepy and stupid), whether the pleasure of making a daisy-chain would be worth the trouble of getting up and picking the daisies, when suddenly a White Rabbit with pink eyes ran close by her.',\n",
       " 'There was nothing so very remarkable in that, nor did Alice think it so very much out of the way to hear the Rabbit say to itself, \"Oh dear!',\n",
       " 'Oh dear!',\n",
       " 'I shall be too late!\"',\n",
       " 'But when the Rabbit actually took a watch out of its waistcoat-pocket and looked at it and then hurried on, Alice started to her feet, for it flashed across her mind that she had never before seen a rabbit with either a waistcoat-pocket, or a watch to take out of it, and, burning with curiosity, she ran across the field after it and was just in time to see it pop down a large rabbit-hole, under the hedge.',\n",
       " 'In another moment, down went Alice after it!',\n",
       " '[Illustration] The rabbit-hole went straight on like a tunnel for some way and then dipped suddenly down, so suddenly that Alice had not a moment to think about stopping herself before she found herself falling down what seemed to be a very deep well.',\n",
       " 'Either the well was very deep, or she fell very slowly, for she had plenty of time, as she went down, to look about her.']"
      ]
     },
     "execution_count": 4,
     "metadata": {},
     "output_type": "execute_result"
    }
   ],
   "source": [
    "sentences[0:10]"
   ]
  },
  {
   "cell_type": "code",
   "execution_count": 5,
   "id": "e033f8ac-73d8-4e2a-a260-cacfe1aa053a",
   "metadata": {},
   "outputs": [],
   "source": [
    "tokens = []\n",
    "for s in sentences:\n",
    "    w = nltk.word_tokenize(s)\n",
    "    for token in w:\n",
    "        tokens.append(token)"
   ]
  },
  {
   "cell_type": "code",
   "execution_count": 6,
   "id": "c6f02baf-daba-472b-ac97-7c81bf7fb390",
   "metadata": {},
   "outputs": [],
   "source": [
    "length_tokens = len(tokens)"
   ]
  },
  {
   "cell_type": "code",
   "execution_count": 7,
   "id": "7db9b411-81fe-4c8c-acb3-1438bc67e439",
   "metadata": {},
   "outputs": [],
   "source": [
    "train_tokens = tokens[0:length_tokens-1000]"
   ]
  },
  {
   "cell_type": "code",
   "execution_count": 8,
   "id": "261fed47-a211-4b0e-9787-895391be938a",
   "metadata": {},
   "outputs": [],
   "source": [
    "test_tokens = tokens[length_tokens-1000:]"
   ]
  },
  {
   "cell_type": "markdown",
   "id": "f40ff70e-b095-4a46-8545-f7dc83d90e65",
   "metadata": {},
   "source": [
    "### Build train letter based x_train y_train"
   ]
  },
  {
   "cell_type": "code",
   "execution_count": 9,
   "id": "79cafe7f-b772-4a35-870e-6a2598df3440",
   "metadata": {},
   "outputs": [],
   "source": [
    "x_train = []\n",
    "y_train = []"
   ]
  },
  {
   "cell_type": "code",
   "execution_count": 10,
   "id": "411f7b17-54f1-460c-8d50-95b2df2f2dc1",
   "metadata": {},
   "outputs": [],
   "source": [
    "for token in train_tokens:\n",
    "    if len(token) == 1:\n",
    "        x_train.append(token)\n",
    "        y_train.append(1)\n",
    "    else:\n",
    "        length_token = len(token)\n",
    "        for i in range(length_token):\n",
    "            if i + 1 == length_token:\n",
    "                x_train.append(token[i])\n",
    "                y_train.append(1)\n",
    "            else:\n",
    "                x_train.append(token[i])\n",
    "                y_train.append(0)"
   ]
  },
  {
   "cell_type": "code",
   "execution_count": 11,
   "id": "ba23be38-f428-43a7-8ac3-b94190033ba0",
   "metadata": {},
   "outputs": [],
   "source": [
    "x_test = []\n",
    "y_test = []"
   ]
  },
  {
   "cell_type": "code",
   "execution_count": 12,
   "id": "6f2ad352-7d6e-4ad7-8bdb-e6ca14a958f8",
   "metadata": {},
   "outputs": [],
   "source": [
    "for token in test_tokens:\n",
    "    if len(token) == 1:\n",
    "        x_test.append(token)\n",
    "        y_test.append(1)\n",
    "    else:\n",
    "        length_token = len(token)\n",
    "        for i in range(length_token):\n",
    "            if i + 1 == length_token:\n",
    "                x_test.append(token[i])\n",
    "                y_test.append(1)\n",
    "            else:\n",
    "                x_test.append(token[i])\n",
    "                y_test.append(0)"
   ]
  },
  {
   "cell_type": "markdown",
   "id": "91f4b3ed-9bde-49b4-9c56-9a20a74782ee",
   "metadata": {},
   "source": [
    "### build the training data and test data"
   ]
  },
  {
   "cell_type": "code",
   "execution_count": 13,
   "id": "c8fa4708-80ab-4dbb-a48c-216941956059",
   "metadata": {},
   "outputs": [],
   "source": [
    "dic_converge = {}"
   ]
  },
  {
   "cell_type": "code",
   "execution_count": 14,
   "id": "7258a0fd-07ad-4bd9-8171-6d758bcef024",
   "metadata": {},
   "outputs": [],
   "source": [
    "set_letter = set(x_train)"
   ]
  },
  {
   "cell_type": "code",
   "execution_count": 15,
   "id": "23d6993b-e040-4fef-bce2-ec442db1e29b",
   "metadata": {},
   "outputs": [],
   "source": [
    "for i, unique_letter in enumerate(set_letter):\n",
    "    dic_converge[unique_letter] = i"
   ]
  },
  {
   "cell_type": "code",
   "execution_count": 16,
   "id": "80f7977a-aaa0-4b10-9a8b-0b084adcdfe3",
   "metadata": {},
   "outputs": [],
   "source": [
    "import numpy as np\n",
    "from sklearn.linear_model import LogisticRegression"
   ]
  },
  {
   "cell_type": "code",
   "execution_count": 17,
   "id": "86bf8253-7b54-49a0-8309-123d84ad8498",
   "metadata": {},
   "outputs": [],
   "source": [
    "train_data_X = np.zeros((len(y_train) - 10, 11))"
   ]
  },
  {
   "cell_type": "code",
   "execution_count": 18,
   "id": "bafb1e09-bcfd-4564-96d7-055b0d36d854",
   "metadata": {},
   "outputs": [],
   "source": [
    "test_data_X = np.zeros((len(y_test) - 10, 11))"
   ]
  },
  {
   "cell_type": "code",
   "execution_count": 19,
   "id": "e9b13649-48fc-44e1-bd34-9d2276d84173",
   "metadata": {},
   "outputs": [
    {
     "data": {
      "text/plain": [
       "(3388, 11)"
      ]
     },
     "execution_count": 19,
     "metadata": {},
     "output_type": "execute_result"
    }
   ],
   "source": [
    "test_data_X.shape"
   ]
  },
  {
   "cell_type": "code",
   "execution_count": 20,
   "id": "a972465f-fbda-4a78-97b4-97526e4d6d36",
   "metadata": {},
   "outputs": [
    {
     "data": {
      "text/plain": [
       "{'c': 0,\n",
       " \"'\": 1,\n",
       " 'i': 2,\n",
       " 'u': 3,\n",
       " 'n': 4,\n",
       " 'D': 5,\n",
       " 'y': 6,\n",
       " ',': 7,\n",
       " 'f': 8,\n",
       " '_': 9,\n",
       " '*': 10,\n",
       " 'd': 11,\n",
       " 'Y': 12,\n",
       " '.': 13,\n",
       " 'g': 14,\n",
       " ']': 15,\n",
       " 'P': 16,\n",
       " 'U': 17,\n",
       " '?': 18,\n",
       " '`': 19,\n",
       " 'b': 20,\n",
       " 'O': 21,\n",
       " 'W': 22,\n",
       " 'M': 23,\n",
       " 'l': 24,\n",
       " 'e': 25,\n",
       " 'A': 26,\n",
       " 'm': 27,\n",
       " 's': 28,\n",
       " '!': 29,\n",
       " 'x': 30,\n",
       " 'R': 31,\n",
       " 'S': 32,\n",
       " 'G': 33,\n",
       " 'J': 34,\n",
       " 'j': 35,\n",
       " ':': 36,\n",
       " 'k': 37,\n",
       " 'p': 38,\n",
       " 'N': 39,\n",
       " 'H': 40,\n",
       " 'F': 41,\n",
       " 'o': 42,\n",
       " 'q': 43,\n",
       " ';': 44,\n",
       " 'K': 45,\n",
       " 'ù': 46,\n",
       " 'V': 47,\n",
       " '[': 48,\n",
       " 'C': 49,\n",
       " 'Q': 50,\n",
       " 'T': 51,\n",
       " 'v': 52,\n",
       " 'L': 53,\n",
       " 'w': 54,\n",
       " '-': 55,\n",
       " 'h': 56,\n",
       " 'r': 57,\n",
       " '(': 58,\n",
       " 'z': 59,\n",
       " 'E': 60,\n",
       " 'I': 61,\n",
       " 'X': 62,\n",
       " 'a': 63,\n",
       " ')': 64,\n",
       " 'B': 65,\n",
       " 't': 66}"
      ]
     },
     "execution_count": 20,
     "metadata": {},
     "output_type": "execute_result"
    }
   ],
   "source": [
    "dic_converge"
   ]
  },
  {
   "cell_type": "code",
   "execution_count": 21,
   "id": "d44d7c36-5f18-4a9e-92df-2dfca7cf285c",
   "metadata": {},
   "outputs": [],
   "source": [
    "for i in range(5, len(y_train) - 5):\n",
    "    target_data = x_train[i-5: i + 6]\n",
    "    for j in range(11):\n",
    "        train_data_X[i-5, j] = dic_converge[target_data[j]]"
   ]
  },
  {
   "cell_type": "code",
   "execution_count": 22,
   "id": "c3302391-34e3-4e68-a85d-72bdbed04ff7",
   "metadata": {},
   "outputs": [
    {
     "data": {
      "text/plain": [
       "array([[61., 55., 55., ..., 40., 60., 31.],\n",
       "       [55., 55.,  5., ..., 60., 31., 26.],\n",
       "       [55.,  5., 21., ..., 31., 26., 65.],\n",
       "       ...,\n",
       "       [25., 57., 63., ..., 66., 11., 42.],\n",
       "       [57., 63.,  4., ..., 11., 42., 54.],\n",
       "       [63.,  4., 11., ..., 42., 54.,  4.]])"
      ]
     },
     "execution_count": 22,
     "metadata": {},
     "output_type": "execute_result"
    }
   ],
   "source": [
    "train_data_X"
   ]
  },
  {
   "cell_type": "code",
   "execution_count": 23,
   "id": "a0daf108-5581-4f5b-b3cb-e2fecd586e1c",
   "metadata": {},
   "outputs": [
    {
     "data": {
      "text/plain": [
       "(39792, 11)"
      ]
     },
     "execution_count": 23,
     "metadata": {},
     "output_type": "execute_result"
    }
   ],
   "source": [
    "train_data_X.shape"
   ]
  },
  {
   "cell_type": "code",
   "execution_count": 24,
   "id": "be62d0b0-bbbe-4773-afd2-6973e720b08a",
   "metadata": {},
   "outputs": [],
   "source": [
    "for i in range(5, len(y_test) - 5):\n",
    "    target_data = x_test[i-5: i + 6]\n",
    "    for j in range(11):\n",
    "        test_data_X[i-5, j] = dic_converge[target_data[j]]"
   ]
  },
  {
   "cell_type": "code",
   "execution_count": 25,
   "id": "9cd6955b-1c46-4391-8236-bec382d40578",
   "metadata": {},
   "outputs": [
    {
     "data": {
      "text/plain": [
       "array([[42.,  4., 42., ..., 25., 13., 19.],\n",
       "       [ 4., 42.,  4., ..., 13., 19., 19.],\n",
       "       [42.,  4., 25., ..., 19., 19., 61.],\n",
       "       ...,\n",
       "       [61., 24., 24., ..., 66.,  2., 42.],\n",
       "       [24., 24.,  3., ...,  2., 42.,  4.],\n",
       "       [24.,  3., 28., ..., 42.,  4., 15.]])"
      ]
     },
     "execution_count": 25,
     "metadata": {},
     "output_type": "execute_result"
    }
   ],
   "source": [
    "test_data_X"
   ]
  },
  {
   "cell_type": "code",
   "execution_count": 26,
   "id": "b6b7d841-e5bc-49ba-8f84-94423ebbbe2c",
   "metadata": {},
   "outputs": [
    {
     "data": {
      "text/plain": [
       "(3388, 11)"
      ]
     },
     "execution_count": 26,
     "metadata": {},
     "output_type": "execute_result"
    }
   ],
   "source": [
    "test_data_X.shape"
   ]
  },
  {
   "cell_type": "code",
   "execution_count": 27,
   "id": "13fd834e-20a7-49bc-9701-7d9928a055ef",
   "metadata": {},
   "outputs": [],
   "source": [
    "train_data_Y = y_train[5:len(y_train) - 5]"
   ]
  },
  {
   "cell_type": "code",
   "execution_count": 28,
   "id": "3e331379-69e5-48b2-9410-f766345eabc8",
   "metadata": {},
   "outputs": [],
   "source": [
    "test_data_Y = y_test[5:len(y_test) - 5]"
   ]
  },
  {
   "cell_type": "code",
   "execution_count": 29,
   "id": "37b5e995-e9ff-401d-8bcf-a64505d9b081",
   "metadata": {},
   "outputs": [
    {
     "data": {
      "text/plain": [
       "3388"
      ]
     },
     "execution_count": 29,
     "metadata": {},
     "output_type": "execute_result"
    }
   ],
   "source": [
    "len(test_data_Y)"
   ]
  },
  {
   "cell_type": "code",
   "execution_count": 30,
   "id": "92817a3b-1757-43dd-b053-1a44aa1a2662",
   "metadata": {},
   "outputs": [],
   "source": [
    "clf = LogisticRegression(random_state=0).fit(train_data_X, train_data_Y)"
   ]
  },
  {
   "cell_type": "code",
   "execution_count": 31,
   "id": "f97ece6d-86de-4c02-a05a-ec6a4536b140",
   "metadata": {},
   "outputs": [
    {
     "data": {
      "text/plain": [
       "array([[-0.00229883, -0.00017385, -0.00146594,  0.00137765, -0.00370408,\n",
       "        -0.01120398,  0.00561949,  0.00417389, -0.00106254,  0.00226733,\n",
       "         0.00199184]])"
      ]
     },
     "execution_count": 31,
     "metadata": {},
     "output_type": "execute_result"
    }
   ],
   "source": [
    "clf.coef_"
   ]
  },
  {
   "cell_type": "code",
   "execution_count": 32,
   "id": "83caa114-7a50-4226-b881-1fe499493877",
   "metadata": {},
   "outputs": [],
   "source": [
    "a = clf.predict(test_data_X)"
   ]
  },
  {
   "cell_type": "code",
   "execution_count": 33,
   "id": "c5e215b8-db69-4644-9d9c-6ed3bd86a557",
   "metadata": {},
   "outputs": [],
   "source": [
    "if 1 in a:\n",
    "    print('yes')"
   ]
  },
  {
   "cell_type": "code",
   "execution_count": 34,
   "id": "4a00a27c-7749-48a9-825a-02f16ce27e4d",
   "metadata": {},
   "outputs": [
    {
     "data": {
      "text/plain": [
       "0.706021251475797"
      ]
     },
     "execution_count": 34,
     "metadata": {},
     "output_type": "execute_result"
    }
   ],
   "source": [
    "clf.score(test_data_X, test_data_Y)"
   ]
  },
  {
   "cell_type": "markdown",
   "id": "2472a987-919b-4867-babb-a128aa7fdd61",
   "metadata": {},
   "source": [
    "### This approach serves no futures\n",
    "\n",
    "My assumption is the label is not sparse enough. I will try to adopt embedding layer and make it train with embendding layer."
   ]
  },
  {
   "cell_type": "code",
   "execution_count": 35,
   "id": "f72514e7-5aa2-4607-92de-c748b39935dd",
   "metadata": {},
   "outputs": [],
   "source": [
    "import torch\n",
    "from torch.utils.data import TensorDataset, DataLoader\n",
    "import torch.optim as optim\n",
    "import torch.nn as nn"
   ]
  },
  {
   "cell_type": "code",
   "execution_count": 36,
   "id": "17509ce4-d0de-4f68-a9f0-b7acd8cd2e9a",
   "metadata": {},
   "outputs": [],
   "source": [
    "embedding = torch.nn.Embedding(67, 67, max_norm=True)"
   ]
  },
  {
   "cell_type": "code",
   "execution_count": 37,
   "id": "0c3aca74-efd7-46b3-bf36-b0418fc7b02c",
   "metadata": {},
   "outputs": [],
   "source": [
    "train_data_X = torch.from_numpy(train_data_X).long()"
   ]
  },
  {
   "cell_type": "code",
   "execution_count": 48,
   "id": "b10fb8be-4510-4457-ab9e-ae15b5c0a87c",
   "metadata": {},
   "outputs": [],
   "source": [
    "test_data_X = torch.from_numpy(test_data_X).long()"
   ]
  },
  {
   "cell_type": "code",
   "execution_count": 49,
   "id": "b665aa1f-aad4-4f7e-b2e7-2bbaf1d1829b",
   "metadata": {},
   "outputs": [],
   "source": [
    "test_data_Y = np.array(test_data_Y)"
   ]
  },
  {
   "cell_type": "code",
   "execution_count": 38,
   "id": "d2b7faa6-b603-48d0-9392-eb1b6f0e3f2f",
   "metadata": {},
   "outputs": [],
   "source": [
    "train_data_Y = np.array(train_data_Y)"
   ]
  },
  {
   "cell_type": "code",
   "execution_count": 39,
   "id": "a8e60adc-13b0-4f6c-9082-4015650026b9",
   "metadata": {},
   "outputs": [],
   "source": [
    "train_data_Y = torch.from_numpy(train_data_Y)"
   ]
  },
  {
   "cell_type": "code",
   "execution_count": 40,
   "id": "cd9976f6-3583-43a0-a2d0-dc5efb676d38",
   "metadata": {},
   "outputs": [
    {
     "data": {
      "text/plain": [
       "torch.Size([39792, 11, 67])"
      ]
     },
     "execution_count": 40,
     "metadata": {},
     "output_type": "execute_result"
    }
   ],
   "source": [
    "embedding(train_data_X).shape"
   ]
  },
  {
   "cell_type": "code",
   "execution_count": 41,
   "id": "f7d954e8-cf9d-4691-aea6-9c3d6049286a",
   "metadata": {},
   "outputs": [],
   "source": [
    "params = {'batch_size': 32,\n",
    "         'shuffle': True,\n",
    "         'num_workers': 2}"
   ]
  },
  {
   "cell_type": "code",
   "execution_count": 42,
   "id": "63ab45fd-868e-43c0-85d6-b6fb7d007350",
   "metadata": {},
   "outputs": [],
   "source": [
    "train_dataset = TensorDataset(train_data_X, train_data_Y)"
   ]
  },
  {
   "cell_type": "code",
   "execution_count": 43,
   "id": "b2b19fec-b611-4e8a-96f3-934ef4669767",
   "metadata": {},
   "outputs": [],
   "source": [
    "train_dataloader = DataLoader(train_dataset, **params)"
   ]
  },
  {
   "cell_type": "code",
   "execution_count": 45,
   "id": "b47de11f-accc-405d-9a2d-f74146d0e8ae",
   "metadata": {},
   "outputs": [
    {
     "name": "stdout",
     "output_type": "stream",
     "text": [
      "1\n",
      "torch.Size([32, 11])\n",
      "tensor([1, 1, 1, 0, 0, 0, 1, 1, 1, 0, 1, 0, 0, 0, 1, 1, 0, 0, 1, 1, 1, 1, 0, 0,\n",
      "        1, 0, 0, 0, 0, 1, 0, 0], dtype=torch.int32)\n"
     ]
    }
   ],
   "source": [
    "for data, label in train_dataloader:\n",
    "    print(1)\n",
    "    print(data.shape)\n",
    "    print(label)\n",
    "    break"
   ]
  },
  {
   "cell_type": "code",
   "execution_count": null,
   "id": "8d93af62-751b-4f0e-8579-0f0a8c3d66e8",
   "metadata": {},
   "outputs": [],
   "source": []
  }
 ],
 "metadata": {
  "kernelspec": {
   "display_name": "PyCharm (CSE)",
   "language": "python",
   "name": "pycharm-26b43991"
  },
  "language_info": {
   "codemirror_mode": {
    "name": "ipython",
    "version": 3
   },
   "file_extension": ".py",
   "mimetype": "text/x-python",
   "name": "python",
   "nbconvert_exporter": "python",
   "pygments_lexer": "ipython3",
   "version": "3.8.12"
  }
 },
 "nbformat": 4,
 "nbformat_minor": 5
}
